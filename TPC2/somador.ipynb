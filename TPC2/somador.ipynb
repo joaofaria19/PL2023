{
 "cells": [
  {
   "attachments": {},
   "cell_type": "markdown",
   "metadata": {},
   "source": [
    "# TPC2: Somador on/off\n",
    "\n",
    "Crie um programa em Python que tenha o seguinte comportamento:\n",
    "\n",
    "    Pretende-se um programa que some todas as sequências de dígitos que encontre num texto;\n",
    "    Prepare o programa para ler o texto do canal de entrada: stdin;\n",
    "    Sempre que encontrar a string “Off” em qualquer combinação de maiúsculas e minúsculas, esse comportamento é desligado;\n",
    "    Sempre que encontrar a string “On” em qualquer combinação de maiúsculas e minúsculas, esse comportamento é novamente ligado;\n",
    "    Sempre que encontrar o caráter “=”, o resultado da soma é colocado na saída.\n"
   ]
  },
  {
   "attachments": {},
   "cell_type": "markdown",
   "metadata": {},
   "source": [
    "# Bibliotecas importadas:"
   ]
  },
  {
   "cell_type": "code",
   "execution_count": null,
   "metadata": {},
   "outputs": [],
   "source": [
    "import sys"
   ]
  },
  {
   "attachments": {},
   "cell_type": "markdown",
   "metadata": {},
   "source": [
    "# Resolução:"
   ]
  },
  {
   "cell_type": "code",
   "execution_count": null,
   "metadata": {},
   "outputs": [
    {
     "ename": "",
     "evalue": "",
     "output_type": "error",
     "traceback": [
      "\u001b[1;31mRunning cells with '/bin/python3.11' requires the ipykernel package.\n",
      "\u001b[1;31mRun the following command to install 'ipykernel' into the Python environment. \n",
      "\u001b[1;31mCommand: '/bin/python3.11 -m pip install ipykernel -U --user --force-reinstall'"
     ]
    }
   ],
   "source": [
    "\"\"\"\n",
    "    Função auxiliar para converter listas de caracteres referentes a digitos\n",
    "no seu devido valor numérico\n",
    "\"\"\"\n",
    "def list_to_digit(lista):\n",
    "    l = len(lista)\n",
    "    n=1\n",
    "    num=0\n",
    "    while l>0:\n",
    "        num+=int(lista[l-1])*n\n",
    "        n *= 10\n",
    "        l-=1\n",
    "    return num\n",
    "\"\"\"\n",
    "    Função responsável por recolher do texto uma lista de palavras contendo,\n",
    "apenas, as palavras chaves ('on','off',=) e os digitos a serem somados.\n",
    "\"\"\"\n",
    "def extrair(texto):\n",
    "    palavras = []\n",
    "    i = 0\n",
    "    while i < len(texto):\n",
    "        if texto[i] == '=':\n",
    "            palavras.append('=')\n",
    "            i += 1\n",
    "        elif texto[i].lower() == 'o' and texto[i+1].lower() == 'n':\n",
    "            palavras.append('on')\n",
    "            i += 2\n",
    "        elif texto[i].lower() == 'o' and texto[i+1].lower() == 'f' and texto[i+2].lower() == 'f':\n",
    "            palavras.append('off')\n",
    "            i += 3\n",
    "        elif texto[i].isdigit():\n",
    "            inicio = i\n",
    "            while i < len(texto) and texto[i].isdigit():\n",
    "                i += 1\n",
    "            palavras.append(list_to_digit(texto[inicio:i]))\n",
    "        else:    \n",
    "            i += 1\n",
    "    return palavras\n",
    "\"\"\"\"\n",
    "    Função que tem como base uma stack de palavras on, e que através da mesma\n",
    "permite determinar se a soma deve ser efetuada ou não. (A soma acontece apenas quando existe \n",
    "uma quantidade de 'on' igual a quantidade de 'off') \n",
    "\"\"\"\n",
    "def run(texto):\n",
    "    on_stack = []\n",
    "    soma = 0\n",
    "    for word in texto:\n",
    "        if word == 'on':\n",
    "            on_stack.append('on')\n",
    "        elif word =='off':\n",
    "            on_stack.pop()\n",
    "        elif word == '=':\n",
    "            print(\"\\n>> \"+ str(soma))\n",
    "        elif len(on_stack) > 0:\n",
    "            soma += (word)\n",
    "\n",
    "def main():\n",
    "    lines = []\n",
    "    print(\"<< Insira o texto em seguida e prima 'Ctrl+D' para ver o total >>\\n\")\n",
    "    for linha in sys.stdin:\n",
    "        lines.extend(linha)\n",
    "    words = extrair(lines)\n",
    "    run(words)\n",
    "\n",
    "if __name__ == \"__main__\":\n",
    "    main()"
   ]
  },
  {
   "attachments": {},
   "cell_type": "markdown",
   "metadata": {},
   "source": [
    "# Método de resolução:\n",
    "\n",
    "Leio linha a linha e através da função 'extrair' extraio todos as palavras chave para no contexto do tpc. A função 'extrair' devolve então uma lista com todas as palavras chaves ordenadas pela ordem que aparecem no texto fornecido.\n",
    "A função 'list_to_digit' é responsável por receber uma lista que corresponde a um digito e transformar o mesmo num numero decimal, uma vez que utilizamos na função 'extrair' se trata de uma lista de todos os elementos chaves encontrados.\n",
    "A função 'run' utiliza percorre esta lista e se o somador estiver ligado procede à soma dos digitos que aparecem conforme o especificado no programa pedido. É também nesta função que quando encontramos o caracter '=' que procedemos à impressão do resultado da soma dos digitos até ao momento considerados.\n",
    "A funcionalidade on/off na função 'run' é ativada tendo como base uma stack(on_stack), ou seja, quando nos deparamos com duas strings 'on' estas são adicionadas à stack, a funcionalidade de soma apenas é desligada se forem encontradas duas string 'off' que anulem as duas 'on' previamente adicionadas em stack.\n",
    "\n",
    "Palavras chave: {'on','off','=',digitos(0-9)}"
   ]
  },
  {
   "attachments": {},
   "cell_type": "markdown",
   "metadata": {},
   "source": [
    "Observação: Para objetivos de teste deve correr o programa python(somador.py), o ficheiro jupiter apenas serve para documentação. "
   ]
  }
 ],
 "metadata": {
  "kernelspec": {
   "display_name": "Python 3",
   "language": "python",
   "name": "python3"
  },
  "language_info": {
   "name": "python",
   "version": "3.11.2"
  },
  "orig_nbformat": 4,
  "vscode": {
   "interpreter": {
    "hash": "ead1b95f633dc9c51826328e1846203f51a198c6fb5f2884a80417ba131d4e82"
   }
  }
 },
 "nbformat": 4,
 "nbformat_minor": 2
}
